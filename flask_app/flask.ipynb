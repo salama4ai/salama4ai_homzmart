{
 "cells": [
  {
   "cell_type": "code",
   "execution_count": 2,
   "id": "4fef620f-d952-4351-8606-a3286700d56f",
   "metadata": {},
   "outputs": [
    {
     "name": "stdout",
     "output_type": "stream",
     "text": [
      "Defaulting to user installation because normal site-packages is not writeable\n",
      "Requirement already satisfied: flask in c:\\users\\huzyfa\\appdata\\roaming\\python\\python310\\site-packages (2.0.2)\n",
      "Requirement already satisfied: itsdangerous>=2.0 in c:\\users\\huzyfa\\appdata\\roaming\\python\\python310\\site-packages (from flask) (2.0.1)\n",
      "Requirement already satisfied: Werkzeug>=2.0 in c:\\users\\huzyfa\\appdata\\roaming\\python\\python310\\site-packages (from flask) (2.0.2)\n",
      "Requirement already satisfied: click>=7.1.2 in c:\\users\\huzyfa\\appdata\\roaming\\python\\python310\\site-packages (from flask) (8.0.3)\n",
      "Requirement already satisfied: Jinja2>=3.0 in c:\\users\\huzyfa\\appdata\\roaming\\python\\python310\\site-packages (from flask) (3.0.2)\n",
      "Requirement already satisfied: colorama in c:\\users\\huzyfa\\appdata\\roaming\\python\\python310\\site-packages (from click>=7.1.2->flask) (0.4.4)\n",
      "Requirement already satisfied: MarkupSafe>=2.0 in c:\\users\\huzyfa\\appdata\\roaming\\python\\python310\\site-packages (from Jinja2>=3.0->flask) (2.0.1)\n"
     ]
    }
   ],
   "source": [
    "# install flask\n",
    "!pip install flask\n",
    "\n",
    "# set the script of the api\n",
    "!set FLASK_APP=flask_api.py\n",
    "\n",
    "# set the debug mode to be able to see the changes in the api without reloading the server\n",
    "!set FLASK_DEBUG=1"
   ]
  },
  {
   "cell_type": "code",
   "execution_count": null,
   "id": "9b860c0e-68af-4fd4-a36a-c5d818df712f",
   "metadata": {},
   "outputs": [],
   "source": []
  }
 ],
 "metadata": {
  "kernelspec": {
   "display_name": "Python 3 (ipykernel)",
   "language": "python",
   "name": "python3"
  },
  "language_info": {
   "codemirror_mode": {
    "name": "ipython",
    "version": 3
   },
   "file_extension": ".py",
   "mimetype": "text/x-python",
   "name": "python",
   "nbconvert_exporter": "python",
   "pygments_lexer": "ipython3",
   "version": "3.10.0"
  }
 },
 "nbformat": 4,
 "nbformat_minor": 5
}
