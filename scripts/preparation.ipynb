{
 "cells": [
  {
   "cell_type": "markdown",
   "id": "5305742e",
   "metadata": {},
   "source": [
    "# 1- preparing dataset"
   ]
  },
  {
   "cell_type": "code",
   "execution_count": 1,
   "id": "96b8ce1c",
   "metadata": {},
   "outputs": [],
   "source": [
    "import pandas as pd"
   ]
  },
  {
   "cell_type": "code",
   "execution_count": 2,
   "id": "b912f49f",
   "metadata": {},
   "outputs": [
    {
     "data": {
      "text/html": [
       "<div>\n",
       "<style scoped>\n",
       "    .dataframe tbody tr th:only-of-type {\n",
       "        vertical-align: middle;\n",
       "    }\n",
       "\n",
       "    .dataframe tbody tr th {\n",
       "        vertical-align: top;\n",
       "    }\n",
       "\n",
       "    .dataframe thead th {\n",
       "        text-align: right;\n",
       "    }\n",
       "</style>\n",
       "<table border=\"1\" class=\"dataframe\">\n",
       "  <thead>\n",
       "    <tr style=\"text-align: right;\">\n",
       "      <th></th>\n",
       "      <th>address</th>\n",
       "      <th>categories</th>\n",
       "      <th>city</th>\n",
       "      <th>country</th>\n",
       "      <th>latitude</th>\n",
       "      <th>longitude</th>\n",
       "      <th>name</th>\n",
       "      <th>postalCode</th>\n",
       "      <th>province</th>\n",
       "      <th>reviews.date</th>\n",
       "      <th>reviews.dateAdded</th>\n",
       "      <th>reviews.doRecommend</th>\n",
       "      <th>reviews.id</th>\n",
       "      <th>reviews.rating</th>\n",
       "      <th>reviews.text</th>\n",
       "      <th>reviews.title</th>\n",
       "      <th>reviews.userCity</th>\n",
       "      <th>reviews.username</th>\n",
       "      <th>reviews.userProvince</th>\n",
       "    </tr>\n",
       "  </thead>\n",
       "  <tbody>\n",
       "    <tr>\n",
       "      <th>0</th>\n",
       "      <td>Riviera San Nicol 11/a</td>\n",
       "      <td>Hotels</td>\n",
       "      <td>Mableton</td>\n",
       "      <td>US</td>\n",
       "      <td>45.421611</td>\n",
       "      <td>12.376187</td>\n",
       "      <td>Hotel Russo Palace</td>\n",
       "      <td>30126</td>\n",
       "      <td>GA</td>\n",
       "      <td>2013-09-22T00:00:00Z</td>\n",
       "      <td>2016-10-24T00:00:25Z</td>\n",
       "      <td>NaN</td>\n",
       "      <td>NaN</td>\n",
       "      <td>4.0</td>\n",
       "      <td>Pleasant 10 min walk along the sea front to th...</td>\n",
       "      <td>Good location away from the crouds</td>\n",
       "      <td>NaN</td>\n",
       "      <td>Russ (kent)</td>\n",
       "      <td>NaN</td>\n",
       "    </tr>\n",
       "    <tr>\n",
       "      <th>1</th>\n",
       "      <td>Riviera San Nicol 11/a</td>\n",
       "      <td>Hotels</td>\n",
       "      <td>Mableton</td>\n",
       "      <td>US</td>\n",
       "      <td>45.421611</td>\n",
       "      <td>12.376187</td>\n",
       "      <td>Hotel Russo Palace</td>\n",
       "      <td>30126</td>\n",
       "      <td>GA</td>\n",
       "      <td>2015-04-03T00:00:00Z</td>\n",
       "      <td>2016-10-24T00:00:25Z</td>\n",
       "      <td>NaN</td>\n",
       "      <td>NaN</td>\n",
       "      <td>5.0</td>\n",
       "      <td>Really lovely hotel. Stayed on the very top fl...</td>\n",
       "      <td>Great hotel with Jacuzzi bath!</td>\n",
       "      <td>NaN</td>\n",
       "      <td>A Traveler</td>\n",
       "      <td>NaN</td>\n",
       "    </tr>\n",
       "    <tr>\n",
       "      <th>2</th>\n",
       "      <td>Riviera San Nicol 11/a</td>\n",
       "      <td>Hotels</td>\n",
       "      <td>Mableton</td>\n",
       "      <td>US</td>\n",
       "      <td>45.421611</td>\n",
       "      <td>12.376187</td>\n",
       "      <td>Hotel Russo Palace</td>\n",
       "      <td>30126</td>\n",
       "      <td>GA</td>\n",
       "      <td>2014-05-13T00:00:00Z</td>\n",
       "      <td>2016-10-24T00:00:25Z</td>\n",
       "      <td>NaN</td>\n",
       "      <td>NaN</td>\n",
       "      <td>5.0</td>\n",
       "      <td>Ett mycket bra hotell. Det som drog ner betyge...</td>\n",
       "      <td>Lugnt l��ge</td>\n",
       "      <td>NaN</td>\n",
       "      <td>Maud</td>\n",
       "      <td>NaN</td>\n",
       "    </tr>\n",
       "    <tr>\n",
       "      <th>3</th>\n",
       "      <td>Riviera San Nicol 11/a</td>\n",
       "      <td>Hotels</td>\n",
       "      <td>Mableton</td>\n",
       "      <td>US</td>\n",
       "      <td>45.421611</td>\n",
       "      <td>12.376187</td>\n",
       "      <td>Hotel Russo Palace</td>\n",
       "      <td>30126</td>\n",
       "      <td>GA</td>\n",
       "      <td>2013-10-27T00:00:00Z</td>\n",
       "      <td>2016-10-24T00:00:25Z</td>\n",
       "      <td>NaN</td>\n",
       "      <td>NaN</td>\n",
       "      <td>5.0</td>\n",
       "      <td>We stayed here for four nights in October. The...</td>\n",
       "      <td>Good location on the Lido.</td>\n",
       "      <td>NaN</td>\n",
       "      <td>Julie</td>\n",
       "      <td>NaN</td>\n",
       "    </tr>\n",
       "    <tr>\n",
       "      <th>4</th>\n",
       "      <td>Riviera San Nicol 11/a</td>\n",
       "      <td>Hotels</td>\n",
       "      <td>Mableton</td>\n",
       "      <td>US</td>\n",
       "      <td>45.421611</td>\n",
       "      <td>12.376187</td>\n",
       "      <td>Hotel Russo Palace</td>\n",
       "      <td>30126</td>\n",
       "      <td>GA</td>\n",
       "      <td>2015-03-05T00:00:00Z</td>\n",
       "      <td>2016-10-24T00:00:25Z</td>\n",
       "      <td>NaN</td>\n",
       "      <td>NaN</td>\n",
       "      <td>5.0</td>\n",
       "      <td>We stayed here for four nights in October. The...</td>\n",
       "      <td>������ ���������������</td>\n",
       "      <td>NaN</td>\n",
       "      <td>sungchul</td>\n",
       "      <td>NaN</td>\n",
       "    </tr>\n",
       "  </tbody>\n",
       "</table>\n",
       "</div>"
      ],
      "text/plain": [
       "                  address categories      city country   latitude  longitude  \\\n",
       "0  Riviera San Nicol 11/a     Hotels  Mableton      US  45.421611  12.376187   \n",
       "1  Riviera San Nicol 11/a     Hotels  Mableton      US  45.421611  12.376187   \n",
       "2  Riviera San Nicol 11/a     Hotels  Mableton      US  45.421611  12.376187   \n",
       "3  Riviera San Nicol 11/a     Hotels  Mableton      US  45.421611  12.376187   \n",
       "4  Riviera San Nicol 11/a     Hotels  Mableton      US  45.421611  12.376187   \n",
       "\n",
       "                 name postalCode province          reviews.date  \\\n",
       "0  Hotel Russo Palace      30126       GA  2013-09-22T00:00:00Z   \n",
       "1  Hotel Russo Palace      30126       GA  2015-04-03T00:00:00Z   \n",
       "2  Hotel Russo Palace      30126       GA  2014-05-13T00:00:00Z   \n",
       "3  Hotel Russo Palace      30126       GA  2013-10-27T00:00:00Z   \n",
       "4  Hotel Russo Palace      30126       GA  2015-03-05T00:00:00Z   \n",
       "\n",
       "      reviews.dateAdded  reviews.doRecommend  reviews.id  reviews.rating  \\\n",
       "0  2016-10-24T00:00:25Z                  NaN         NaN             4.0   \n",
       "1  2016-10-24T00:00:25Z                  NaN         NaN             5.0   \n",
       "2  2016-10-24T00:00:25Z                  NaN         NaN             5.0   \n",
       "3  2016-10-24T00:00:25Z                  NaN         NaN             5.0   \n",
       "4  2016-10-24T00:00:25Z                  NaN         NaN             5.0   \n",
       "\n",
       "                                        reviews.text  \\\n",
       "0  Pleasant 10 min walk along the sea front to th...   \n",
       "1  Really lovely hotel. Stayed on the very top fl...   \n",
       "2  Ett mycket bra hotell. Det som drog ner betyge...   \n",
       "3  We stayed here for four nights in October. The...   \n",
       "4  We stayed here for four nights in October. The...   \n",
       "\n",
       "                        reviews.title reviews.userCity reviews.username  \\\n",
       "0  Good location away from the crouds              NaN      Russ (kent)   \n",
       "1      Great hotel with Jacuzzi bath!              NaN       A Traveler   \n",
       "2                         Lugnt l��ge              NaN             Maud   \n",
       "3          Good location on the Lido.              NaN            Julie   \n",
       "4              ������ ���������������              NaN         sungchul   \n",
       "\n",
       "  reviews.userProvince  \n",
       "0                  NaN  \n",
       "1                  NaN  \n",
       "2                  NaN  \n",
       "3                  NaN  \n",
       "4                  NaN  "
      ]
     },
     "execution_count": 2,
     "metadata": {},
     "output_type": "execute_result"
    }
   ],
   "source": [
    "df = pd.read_csv(\"../csv-files/7282_1.csv\")\n",
    "df.head()"
   ]
  },
  {
   "cell_type": "code",
   "execution_count": 3,
   "id": "048008b5",
   "metadata": {},
   "outputs": [
    {
     "data": {
      "text/html": [
       "<div>\n",
       "<style scoped>\n",
       "    .dataframe tbody tr th:only-of-type {\n",
       "        vertical-align: middle;\n",
       "    }\n",
       "\n",
       "    .dataframe tbody tr th {\n",
       "        vertical-align: top;\n",
       "    }\n",
       "\n",
       "    .dataframe thead th {\n",
       "        text-align: right;\n",
       "    }\n",
       "</style>\n",
       "<table border=\"1\" class=\"dataframe\">\n",
       "  <thead>\n",
       "    <tr style=\"text-align: right;\">\n",
       "      <th></th>\n",
       "      <th>address</th>\n",
       "      <th>categories</th>\n",
       "      <th>city</th>\n",
       "      <th>country</th>\n",
       "      <th>latitude</th>\n",
       "      <th>longitude</th>\n",
       "      <th>name</th>\n",
       "      <th>postalCode</th>\n",
       "      <th>province</th>\n",
       "      <th>reviews.date</th>\n",
       "      <th>reviews.dateAdded</th>\n",
       "      <th>reviews.doRecommend</th>\n",
       "      <th>reviews.id</th>\n",
       "      <th>reviews.rating</th>\n",
       "      <th>reviews.text</th>\n",
       "      <th>reviews.title</th>\n",
       "      <th>reviews.userCity</th>\n",
       "      <th>reviews.username</th>\n",
       "      <th>reviews.userProvince</th>\n",
       "    </tr>\n",
       "  </thead>\n",
       "  <tbody>\n",
       "    <tr>\n",
       "      <th>0</th>\n",
       "      <td>Riviera San Nicol 11/a</td>\n",
       "      <td>Hotels</td>\n",
       "      <td>Mableton</td>\n",
       "      <td>US</td>\n",
       "      <td>45.421611</td>\n",
       "      <td>12.376187</td>\n",
       "      <td>Hotel Russo Palace</td>\n",
       "      <td>30126</td>\n",
       "      <td>GA</td>\n",
       "      <td>2013-09-22T00:00:00Z</td>\n",
       "      <td>2016-10-24T00:00:25Z</td>\n",
       "      <td>NaN</td>\n",
       "      <td>NaN</td>\n",
       "      <td>4.0</td>\n",
       "      <td>Pleasant 10 min walk along the sea front to th...</td>\n",
       "      <td>Good location away from the crouds</td>\n",
       "      <td>NaN</td>\n",
       "      <td>Russ (kent)</td>\n",
       "      <td>NaN</td>\n",
       "    </tr>\n",
       "    <tr>\n",
       "      <th>1</th>\n",
       "      <td>Riviera San Nicol 11/a</td>\n",
       "      <td>Hotels</td>\n",
       "      <td>Mableton</td>\n",
       "      <td>US</td>\n",
       "      <td>45.421611</td>\n",
       "      <td>12.376187</td>\n",
       "      <td>Hotel Russo Palace</td>\n",
       "      <td>30126</td>\n",
       "      <td>GA</td>\n",
       "      <td>2015-04-03T00:00:00Z</td>\n",
       "      <td>2016-10-24T00:00:25Z</td>\n",
       "      <td>NaN</td>\n",
       "      <td>NaN</td>\n",
       "      <td>5.0</td>\n",
       "      <td>Really lovely hotel. Stayed on the very top fl...</td>\n",
       "      <td>Great hotel with Jacuzzi bath!</td>\n",
       "      <td>NaN</td>\n",
       "      <td>A Traveler</td>\n",
       "      <td>NaN</td>\n",
       "    </tr>\n",
       "    <tr>\n",
       "      <th>2</th>\n",
       "      <td>Riviera San Nicol 11/a</td>\n",
       "      <td>Hotels</td>\n",
       "      <td>Mableton</td>\n",
       "      <td>US</td>\n",
       "      <td>45.421611</td>\n",
       "      <td>12.376187</td>\n",
       "      <td>Hotel Russo Palace</td>\n",
       "      <td>30126</td>\n",
       "      <td>GA</td>\n",
       "      <td>2014-05-13T00:00:00Z</td>\n",
       "      <td>2016-10-24T00:00:25Z</td>\n",
       "      <td>NaN</td>\n",
       "      <td>NaN</td>\n",
       "      <td>5.0</td>\n",
       "      <td>Ett mycket bra hotell. Det som drog ner betyge...</td>\n",
       "      <td>Lugnt l��ge</td>\n",
       "      <td>NaN</td>\n",
       "      <td>Maud</td>\n",
       "      <td>NaN</td>\n",
       "    </tr>\n",
       "    <tr>\n",
       "      <th>3</th>\n",
       "      <td>Riviera San Nicol 11/a</td>\n",
       "      <td>Hotels</td>\n",
       "      <td>Mableton</td>\n",
       "      <td>US</td>\n",
       "      <td>45.421611</td>\n",
       "      <td>12.376187</td>\n",
       "      <td>Hotel Russo Palace</td>\n",
       "      <td>30126</td>\n",
       "      <td>GA</td>\n",
       "      <td>2013-10-27T00:00:00Z</td>\n",
       "      <td>2016-10-24T00:00:25Z</td>\n",
       "      <td>NaN</td>\n",
       "      <td>NaN</td>\n",
       "      <td>5.0</td>\n",
       "      <td>We stayed here for four nights in October. The...</td>\n",
       "      <td>Good location on the Lido.</td>\n",
       "      <td>NaN</td>\n",
       "      <td>Julie</td>\n",
       "      <td>NaN</td>\n",
       "    </tr>\n",
       "    <tr>\n",
       "      <th>4</th>\n",
       "      <td>Riviera San Nicol 11/a</td>\n",
       "      <td>Hotels</td>\n",
       "      <td>Mableton</td>\n",
       "      <td>US</td>\n",
       "      <td>45.421611</td>\n",
       "      <td>12.376187</td>\n",
       "      <td>Hotel Russo Palace</td>\n",
       "      <td>30126</td>\n",
       "      <td>GA</td>\n",
       "      <td>2015-03-05T00:00:00Z</td>\n",
       "      <td>2016-10-24T00:00:25Z</td>\n",
       "      <td>NaN</td>\n",
       "      <td>NaN</td>\n",
       "      <td>5.0</td>\n",
       "      <td>We stayed here for four nights in October. The...</td>\n",
       "      <td>������ ���������������</td>\n",
       "      <td>NaN</td>\n",
       "      <td>sungchul</td>\n",
       "      <td>NaN</td>\n",
       "    </tr>\n",
       "  </tbody>\n",
       "</table>\n",
       "</div>"
      ],
      "text/plain": [
       "                  address categories      city country   latitude  longitude  \\\n",
       "0  Riviera San Nicol 11/a     Hotels  Mableton      US  45.421611  12.376187   \n",
       "1  Riviera San Nicol 11/a     Hotels  Mableton      US  45.421611  12.376187   \n",
       "2  Riviera San Nicol 11/a     Hotels  Mableton      US  45.421611  12.376187   \n",
       "3  Riviera San Nicol 11/a     Hotels  Mableton      US  45.421611  12.376187   \n",
       "4  Riviera San Nicol 11/a     Hotels  Mableton      US  45.421611  12.376187   \n",
       "\n",
       "                 name postalCode province          reviews.date  \\\n",
       "0  Hotel Russo Palace      30126       GA  2013-09-22T00:00:00Z   \n",
       "1  Hotel Russo Palace      30126       GA  2015-04-03T00:00:00Z   \n",
       "2  Hotel Russo Palace      30126       GA  2014-05-13T00:00:00Z   \n",
       "3  Hotel Russo Palace      30126       GA  2013-10-27T00:00:00Z   \n",
       "4  Hotel Russo Palace      30126       GA  2015-03-05T00:00:00Z   \n",
       "\n",
       "      reviews.dateAdded  reviews.doRecommend  reviews.id  reviews.rating  \\\n",
       "0  2016-10-24T00:00:25Z                  NaN         NaN             4.0   \n",
       "1  2016-10-24T00:00:25Z                  NaN         NaN             5.0   \n",
       "2  2016-10-24T00:00:25Z                  NaN         NaN             5.0   \n",
       "3  2016-10-24T00:00:25Z                  NaN         NaN             5.0   \n",
       "4  2016-10-24T00:00:25Z                  NaN         NaN             5.0   \n",
       "\n",
       "                                        reviews.text  \\\n",
       "0  Pleasant 10 min walk along the sea front to th...   \n",
       "1  Really lovely hotel. Stayed on the very top fl...   \n",
       "2  Ett mycket bra hotell. Det som drog ner betyge...   \n",
       "3  We stayed here for four nights in October. The...   \n",
       "4  We stayed here for four nights in October. The...   \n",
       "\n",
       "                        reviews.title reviews.userCity reviews.username  \\\n",
       "0  Good location away from the crouds              NaN      Russ (kent)   \n",
       "1      Great hotel with Jacuzzi bath!              NaN       A Traveler   \n",
       "2                         Lugnt l��ge              NaN             Maud   \n",
       "3          Good location on the Lido.              NaN            Julie   \n",
       "4              ������ ���������������              NaN         sungchul   \n",
       "\n",
       "  reviews.userProvince  \n",
       "0                  NaN  \n",
       "1                  NaN  \n",
       "2                  NaN  \n",
       "3                  NaN  \n",
       "4                  NaN  "
      ]
     },
     "execution_count": 3,
     "metadata": {},
     "output_type": "execute_result"
    }
   ],
   "source": [
    "df = df[df.categories==\"Hotels\"]\n",
    "df.head()"
   ]
  },
  {
   "cell_type": "code",
   "execution_count": 4,
   "id": "07cdf59f",
   "metadata": {},
   "outputs": [],
   "source": [
    "df.to_csv(\"../csv-files/just_hotels_catg.csv\", index=False)"
   ]
  },
  {
   "cell_type": "markdown",
   "id": "82bec63f",
   "metadata": {},
   "source": [
    "#### EDA"
   ]
  },
  {
   "cell_type": "code",
   "execution_count": 5,
   "id": "0c77e46f",
   "metadata": {},
   "outputs": [
    {
     "data": {
      "text/plain": [
       "(21420, 19)"
      ]
     },
     "execution_count": 5,
     "metadata": {},
     "output_type": "execute_result"
    }
   ],
   "source": [
    "df.shape"
   ]
  },
  {
   "cell_type": "code",
   "execution_count": 6,
   "id": "9748ceea",
   "metadata": {},
   "outputs": [
    {
     "data": {
      "text/html": [
       "<div>\n",
       "<style scoped>\n",
       "    .dataframe tbody tr th:only-of-type {\n",
       "        vertical-align: middle;\n",
       "    }\n",
       "\n",
       "    .dataframe tbody tr th {\n",
       "        vertical-align: top;\n",
       "    }\n",
       "\n",
       "    .dataframe thead th {\n",
       "        text-align: right;\n",
       "    }\n",
       "</style>\n",
       "<table border=\"1\" class=\"dataframe\">\n",
       "  <thead>\n",
       "    <tr style=\"text-align: right;\">\n",
       "      <th></th>\n",
       "      <th>latitude</th>\n",
       "      <th>longitude</th>\n",
       "      <th>reviews.doRecommend</th>\n",
       "      <th>reviews.id</th>\n",
       "      <th>reviews.rating</th>\n",
       "    </tr>\n",
       "  </thead>\n",
       "  <tbody>\n",
       "    <tr>\n",
       "      <th>count</th>\n",
       "      <td>21386.000000</td>\n",
       "      <td>21386.000000</td>\n",
       "      <td>0.0</td>\n",
       "      <td>0.0</td>\n",
       "      <td>21370.000000</td>\n",
       "    </tr>\n",
       "    <tr>\n",
       "      <th>mean</th>\n",
       "      <td>36.442980</td>\n",
       "      <td>-83.350867</td>\n",
       "      <td>NaN</td>\n",
       "      <td>NaN</td>\n",
       "      <td>3.664483</td>\n",
       "    </tr>\n",
       "    <tr>\n",
       "      <th>std</th>\n",
       "      <td>7.827689</td>\n",
       "      <td>39.268093</td>\n",
       "      <td>NaN</td>\n",
       "      <td>NaN</td>\n",
       "      <td>1.351322</td>\n",
       "    </tr>\n",
       "    <tr>\n",
       "      <th>min</th>\n",
       "      <td>-25.436750</td>\n",
       "      <td>-159.481416</td>\n",
       "      <td>NaN</td>\n",
       "      <td>NaN</td>\n",
       "      <td>0.000000</td>\n",
       "    </tr>\n",
       "    <tr>\n",
       "      <th>25%</th>\n",
       "      <td>33.529422</td>\n",
       "      <td>-109.547157</td>\n",
       "      <td>NaN</td>\n",
       "      <td>NaN</td>\n",
       "      <td>3.000000</td>\n",
       "    </tr>\n",
       "    <tr>\n",
       "      <th>50%</th>\n",
       "      <td>37.352307</td>\n",
       "      <td>-88.297272</td>\n",
       "      <td>NaN</td>\n",
       "      <td>NaN</td>\n",
       "      <td>4.000000</td>\n",
       "    </tr>\n",
       "    <tr>\n",
       "      <th>75%</th>\n",
       "      <td>41.505388</td>\n",
       "      <td>-77.473390</td>\n",
       "      <td>NaN</td>\n",
       "      <td>NaN</td>\n",
       "      <td>5.000000</td>\n",
       "    </tr>\n",
       "    <tr>\n",
       "      <th>max</th>\n",
       "      <td>53.566245</td>\n",
       "      <td>115.164407</td>\n",
       "      <td>NaN</td>\n",
       "      <td>NaN</td>\n",
       "      <td>10.000000</td>\n",
       "    </tr>\n",
       "  </tbody>\n",
       "</table>\n",
       "</div>"
      ],
      "text/plain": [
       "           latitude     longitude  reviews.doRecommend  reviews.id  \\\n",
       "count  21386.000000  21386.000000                  0.0         0.0   \n",
       "mean      36.442980    -83.350867                  NaN         NaN   \n",
       "std        7.827689     39.268093                  NaN         NaN   \n",
       "min      -25.436750   -159.481416                  NaN         NaN   \n",
       "25%       33.529422   -109.547157                  NaN         NaN   \n",
       "50%       37.352307    -88.297272                  NaN         NaN   \n",
       "75%       41.505388    -77.473390                  NaN         NaN   \n",
       "max       53.566245    115.164407                  NaN         NaN   \n",
       "\n",
       "       reviews.rating  \n",
       "count    21370.000000  \n",
       "mean         3.664483  \n",
       "std          1.351322  \n",
       "min          0.000000  \n",
       "25%          3.000000  \n",
       "50%          4.000000  \n",
       "75%          5.000000  \n",
       "max         10.000000  "
      ]
     },
     "execution_count": 6,
     "metadata": {},
     "output_type": "execute_result"
    }
   ],
   "source": [
    "df.describe()"
   ]
  },
  {
   "cell_type": "code",
   "execution_count": 7,
   "id": "7752232b",
   "metadata": {},
   "outputs": [
    {
     "name": "stdout",
     "output_type": "stream",
     "text": [
      "<class 'pandas.core.frame.DataFrame'>\n",
      "Int64Index: 21420 entries, 0 to 35740\n",
      "Data columns (total 19 columns):\n",
      " #   Column                Non-Null Count  Dtype  \n",
      "---  ------                --------------  -----  \n",
      " 0   address               21420 non-null  object \n",
      " 1   categories            21420 non-null  object \n",
      " 2   city                  21420 non-null  object \n",
      " 3   country               21420 non-null  object \n",
      " 4   latitude              21386 non-null  float64\n",
      " 5   longitude             21386 non-null  float64\n",
      " 6   name                  21420 non-null  object \n",
      " 7   postalCode            21365 non-null  object \n",
      " 8   province              21420 non-null  object \n",
      " 9   reviews.date          21395 non-null  object \n",
      " 10  reviews.dateAdded     21420 non-null  object \n",
      " 11  reviews.doRecommend   0 non-null      float64\n",
      " 12  reviews.id            0 non-null      float64\n",
      " 13  reviews.rating        21370 non-null  float64\n",
      " 14  reviews.text          21404 non-null  object \n",
      " 15  reviews.title         21229 non-null  object \n",
      " 16  reviews.userCity      7453 non-null   object \n",
      " 17  reviews.username      21395 non-null  object \n",
      " 18  reviews.userProvince  7883 non-null   object \n",
      "dtypes: float64(5), object(14)\n",
      "memory usage: 3.3+ MB\n"
     ]
    }
   ],
   "source": [
    "df.info()"
   ]
  },
  {
   "cell_type": "code",
   "execution_count": 8,
   "id": "3f157ea6",
   "metadata": {},
   "outputs": [
    {
     "data": {
      "text/html": [
       "<div>\n",
       "<style scoped>\n",
       "    .dataframe tbody tr th:only-of-type {\n",
       "        vertical-align: middle;\n",
       "    }\n",
       "\n",
       "    .dataframe tbody tr th {\n",
       "        vertical-align: top;\n",
       "    }\n",
       "\n",
       "    .dataframe thead th {\n",
       "        text-align: right;\n",
       "    }\n",
       "</style>\n",
       "<table border=\"1\" class=\"dataframe\">\n",
       "  <thead>\n",
       "    <tr style=\"text-align: right;\">\n",
       "      <th></th>\n",
       "      <th>reviews.doRecommend</th>\n",
       "      <th>reviews.id</th>\n",
       "    </tr>\n",
       "  </thead>\n",
       "  <tbody>\n",
       "    <tr>\n",
       "      <th>0</th>\n",
       "      <td>NaN</td>\n",
       "      <td>NaN</td>\n",
       "    </tr>\n",
       "    <tr>\n",
       "      <th>1</th>\n",
       "      <td>NaN</td>\n",
       "      <td>NaN</td>\n",
       "    </tr>\n",
       "    <tr>\n",
       "      <th>2</th>\n",
       "      <td>NaN</td>\n",
       "      <td>NaN</td>\n",
       "    </tr>\n",
       "    <tr>\n",
       "      <th>3</th>\n",
       "      <td>NaN</td>\n",
       "      <td>NaN</td>\n",
       "    </tr>\n",
       "    <tr>\n",
       "      <th>4</th>\n",
       "      <td>NaN</td>\n",
       "      <td>NaN</td>\n",
       "    </tr>\n",
       "    <tr>\n",
       "      <th>...</th>\n",
       "      <td>...</td>\n",
       "      <td>...</td>\n",
       "    </tr>\n",
       "    <tr>\n",
       "      <th>35736</th>\n",
       "      <td>NaN</td>\n",
       "      <td>NaN</td>\n",
       "    </tr>\n",
       "    <tr>\n",
       "      <th>35737</th>\n",
       "      <td>NaN</td>\n",
       "      <td>NaN</td>\n",
       "    </tr>\n",
       "    <tr>\n",
       "      <th>35738</th>\n",
       "      <td>NaN</td>\n",
       "      <td>NaN</td>\n",
       "    </tr>\n",
       "    <tr>\n",
       "      <th>35739</th>\n",
       "      <td>NaN</td>\n",
       "      <td>NaN</td>\n",
       "    </tr>\n",
       "    <tr>\n",
       "      <th>35740</th>\n",
       "      <td>NaN</td>\n",
       "      <td>NaN</td>\n",
       "    </tr>\n",
       "  </tbody>\n",
       "</table>\n",
       "<p>21420 rows × 2 columns</p>\n",
       "</div>"
      ],
      "text/plain": [
       "       reviews.doRecommend  reviews.id\n",
       "0                      NaN         NaN\n",
       "1                      NaN         NaN\n",
       "2                      NaN         NaN\n",
       "3                      NaN         NaN\n",
       "4                      NaN         NaN\n",
       "...                    ...         ...\n",
       "35736                  NaN         NaN\n",
       "35737                  NaN         NaN\n",
       "35738                  NaN         NaN\n",
       "35739                  NaN         NaN\n",
       "35740                  NaN         NaN\n",
       "\n",
       "[21420 rows x 2 columns]"
      ]
     },
     "execution_count": 8,
     "metadata": {},
     "output_type": "execute_result"
    }
   ],
   "source": [
    "df[[\"reviews.doRecommend\",\"reviews.id\"]]"
   ]
  },
  {
   "cell_type": "code",
   "execution_count": 9,
   "id": "1e46c0e3",
   "metadata": {},
   "outputs": [
    {
     "data": {
      "text/plain": [
       "reviews.doRecommend    1.0\n",
       "reviews.id             1.0\n",
       "dtype: float64"
      ]
     },
     "execution_count": 9,
     "metadata": {},
     "output_type": "execute_result"
    }
   ],
   "source": [
    "df[[\"reviews.doRecommend\",\"reviews.id\"]].isna().mean()"
   ]
  },
  {
   "cell_type": "markdown",
   "id": "fc1410be",
   "metadata": {},
   "source": [
    "these two columns are completely nulls and have no information, but i will keep them, may be the new data will be not nulls"
   ]
  },
  {
   "cell_type": "code",
   "execution_count": 10,
   "id": "7dfd4ccd",
   "metadata": {},
   "outputs": [
    {
     "data": {
      "text/plain": [
       "address                   310\n",
       "categories                  1\n",
       "city                      265\n",
       "country                     1\n",
       "latitude                  308\n",
       "longitude                 308\n",
       "name                      299\n",
       "postalCode                294\n",
       "province                  111\n",
       "reviews.date             1924\n",
       "reviews.dateAdded         316\n",
       "reviews.doRecommend         0\n",
       "reviews.id                  0\n",
       "reviews.rating             35\n",
       "reviews.text            20563\n",
       "reviews.title           13732\n",
       "reviews.userCity         1191\n",
       "reviews.username         7719\n",
       "reviews.userProvince      207\n",
       "dtype: int64"
      ]
     },
     "execution_count": 10,
     "metadata": {},
     "output_type": "execute_result"
    }
   ],
   "source": [
    "df.nunique()"
   ]
  },
  {
   "cell_type": "markdown",
   "id": "de97afb3",
   "metadata": {},
   "source": [
    "also the country column and categories column contains unique value, thus entropy zero, information almost zero"
   ]
  },
  {
   "cell_type": "code",
   "execution_count": 11,
   "id": "578c144d",
   "metadata": {},
   "outputs": [
    {
     "data": {
      "text/plain": [
       "(21420, 19)"
      ]
     },
     "execution_count": 11,
     "metadata": {},
     "output_type": "execute_result"
    }
   ],
   "source": [
    "df.shape"
   ]
  },
  {
   "cell_type": "code",
   "execution_count": 12,
   "id": "bae2c397",
   "metadata": {},
   "outputs": [
    {
     "data": {
      "text/html": [
       "<div>\n",
       "<style scoped>\n",
       "    .dataframe tbody tr th:only-of-type {\n",
       "        vertical-align: middle;\n",
       "    }\n",
       "\n",
       "    .dataframe tbody tr th {\n",
       "        vertical-align: top;\n",
       "    }\n",
       "\n",
       "    .dataframe thead th {\n",
       "        text-align: right;\n",
       "    }\n",
       "</style>\n",
       "<table border=\"1\" class=\"dataframe\">\n",
       "  <thead>\n",
       "    <tr style=\"text-align: right;\">\n",
       "      <th></th>\n",
       "      <th>address</th>\n",
       "      <th>categories</th>\n",
       "      <th>city</th>\n",
       "      <th>country</th>\n",
       "      <th>latitude</th>\n",
       "      <th>longitude</th>\n",
       "      <th>name</th>\n",
       "      <th>postalCode</th>\n",
       "      <th>province</th>\n",
       "      <th>reviews.date</th>\n",
       "      <th>reviews.dateAdded</th>\n",
       "      <th>reviews.doRecommend</th>\n",
       "      <th>reviews.id</th>\n",
       "      <th>reviews.rating</th>\n",
       "      <th>reviews.text</th>\n",
       "      <th>reviews.title</th>\n",
       "      <th>reviews.userCity</th>\n",
       "      <th>reviews.username</th>\n",
       "      <th>reviews.userProvince</th>\n",
       "    </tr>\n",
       "  </thead>\n",
       "  <tbody>\n",
       "  </tbody>\n",
       "</table>\n",
       "</div>"
      ],
      "text/plain": [
       "Empty DataFrame\n",
       "Columns: [address, categories, city, country, latitude, longitude, name, postalCode, province, reviews.date, reviews.dateAdded, reviews.doRecommend, reviews.id, reviews.rating, reviews.text, reviews.title, reviews.userCity, reviews.username, reviews.userProvince]\n",
       "Index: []"
      ]
     },
     "execution_count": 12,
     "metadata": {},
     "output_type": "execute_result"
    }
   ],
   "source": [
    "df[df[\"categories\"]!=\"Hotels\"]     # rows that them categories is not \"Hotels\" to ensure that condition is satisfied"
   ]
  },
  {
   "cell_type": "code",
   "execution_count": 13,
   "id": "1a97ed88",
   "metadata": {},
   "outputs": [
    {
     "data": {
      "text/plain": [
       "299"
      ]
     },
     "execution_count": 13,
     "metadata": {},
     "output_type": "execute_result"
    }
   ],
   "source": [
    "df.name.nunique()   #number of unique values of the \"name\" column"
   ]
  },
  {
   "cell_type": "markdown",
   "id": "5d34a9a0",
   "metadata": {},
   "source": [
    "### AGGREGATION"
   ]
  },
  {
   "cell_type": "code",
   "execution_count": 14,
   "id": "276c864b",
   "metadata": {},
   "outputs": [],
   "source": [
    "# # the assignment didn't specify any aggregation kind, but i will use this one , i will use this in the indexer\n",
    "\n",
    "# more optimal/faster one\n",
    "df = pd.read_csv(\"../csv-files/just_hotels_catg.csv\", index_col=\"name\")\n",
    "gendata = ({nam: [(row).to_dict() for _, row in df.loc[[nam]].T.items()]} for nam in df.index.unique())\n",
    "\n",
    "# # bad/brevious example but the same result\n",
    "# df = pd.read_csv(\"../csv-files/just_hotels_catg.csv\")\n",
    "# gendata= ({nam: [df[df.name==nam].iloc[row].to_dict() for row in range(len(df[df.name==nam]))]} for nam in df.name.unique())\n",
    "\n",
    "\n",
    "\n",
    "\n",
    "# # the next is bad aggregation example, don't use it\n",
    "# # i will not use this aggregation, as i think it's worse, cause it waste some information, but i implement it just as example, \n",
    "\n",
    "# # copy the shape of the df with empty rows\n",
    "# ndf = df[df[\"categories\"]!=\"Hotels\"].copy()\n",
    "\n",
    "# # copy the unique names to the ndf (new_df), to be able to make one row and only one for each hotel\n",
    "# ndf.name = pd.Series(df.name.unique())\n",
    "\n",
    "# # for each row(hotel) make list of each column values(this is example of aggregation i think of)\n",
    "# for col in df.columns.drop(\"name\"):\n",
    "#     print(col)\n",
    "#     ndf[col] = [df[df.name==nam][col].unique() for nam in ndf.name]\n",
    "# ndf.shape    "
   ]
  },
  {
   "cell_type": "markdown",
   "id": "8e9536fa",
   "metadata": {},
   "source": [
    " "
   ]
  },
  {
   "cell_type": "markdown",
   "id": "38a4a0d3",
   "metadata": {},
   "source": [
    "# 2- preparing for elasticsearch"
   ]
  },
  {
   "cell_type": "code",
   "execution_count": 41,
   "id": "003b8c86",
   "metadata": {},
   "outputs": [
    {
     "name": "stdout",
     "output_type": "stream",
     "text": [
      "# conda environments:\n",
      "#\n",
      "base                     C:\\Users\\huzyfa\\Anaconda3\n",
      "hm                    *  C:\\Users\\huzyfa\\Anaconda3\\envs\\hm\n",
      "\n"
     ]
    },
    {
     "name": "stderr",
     "output_type": "stream",
     "text": [
      "C:\\Users\\huzyfa\\Anaconda3\\lib\\site-packages\\requests\\__init__.py:91: RequestsDependencyWarning: urllib3 (1.26.9) or chardet (3.0.4) doesn't match a supported version!\n",
      "  RequestsDependencyWarning)\n"
     ]
    }
   ],
   "source": [
    "# # activate the virtualenv ```conda activate <your_vertualenv>``` \n",
    "# !conda activate hm\n",
    "\n",
    "# # and in the same cmd run `jupyter lab` or `jupyter notebook` then\n",
    "# !python -m pip install elasticsearch\n",
    "# !python -m pip install elasticsearch[async]\n",
    "\n",
    "# # adding path to the environmet variables\n",
    "# !set PYTHONPATH=r\"C:\\Users\\huzyfa\\Anaconda3\\envs\\hm\\Lib\\site-packages\"\n",
    "\n",
    "# # change to the elasticsearch directoy and also activate the same virtualenv\n",
    "# !.\\bin\\elasticsearch.bat\n",
    "\n",
    "!conda env list\n",
    "# !conda info\n",
    "\n",
    "# !where python"
   ]
  },
  {
   "cell_type": "code",
   "execution_count": 16,
   "id": "07163d44",
   "metadata": {},
   "outputs": [
    {
     "data": {
      "text/plain": [
       "ObjectApiResponse({'name': 'DESKTOP-2MEUV6N', 'cluster_name': 'elasticsearch', 'cluster_uuid': 'l1tAH3iWRNCF1POUC17Ldw', 'version': {'number': '8.1.0', 'build_flavor': 'default', 'build_type': 'zip', 'build_hash': '3700f7679f7d95e36da0b43762189bab189bc53a', 'build_date': '2022-03-03T14:20:00.690422633Z', 'build_snapshot': False, 'lucene_version': '9.0.0', 'minimum_wire_compatibility_version': '7.17.0', 'minimum_index_compatibility_version': '7.0.0'}, 'tagline': 'You Know, for Search'})"
      ]
     },
     "execution_count": 16,
     "metadata": {},
     "output_type": "execute_result"
    }
   ],
   "source": [
    "from elasticsearch import Elasticsearch\n",
    "from elasticsearch.helpers import bulk\n",
    "# Password for the 'elastic' user generated by Elasticsearch\n",
    "ELASTIC_PASSWORD = \"GCsyyDNEQ_h3ebiT51-V\"\n",
    "\n",
    "# Create the client instance\n",
    "es = Elasticsearch(\n",
    "    \"https://localhost:9200\",\n",
    "    ca_certs=r\"C:\\Users\\huzyfa\\Desktop\\elasticsearch-8.1.0\\config\\certs\\http_ca.crt\",\n",
    "    basic_auth=(\"elastic\", ELASTIC_PASSWORD))\n",
    "\n",
    "meta = {\"_index\": \"x\"\n",
    "        , \"_id\": \"hotels\"\n",
    "       }\n",
    "\n",
    "# Successful response!\n",
    "es.info()\n",
    "# {'name': 'instance-0000000000', 'cluster_name': ...}"
   ]
  },
  {
   "cell_type": "code",
   "execution_count": 17,
   "id": "1acc237d",
   "metadata": {},
   "outputs": [
    {
     "data": {
      "text/plain": [
       "True"
      ]
     },
     "execution_count": 17,
     "metadata": {},
     "output_type": "execute_result"
    }
   ],
   "source": [
    "es.ping()"
   ]
  },
  {
   "cell_type": "code",
   "execution_count": 18,
   "id": "4d223ec4",
   "metadata": {},
   "outputs": [],
   "source": [
    "# Elasticsearch.info(es)"
   ]
  },
  {
   "cell_type": "code",
   "execution_count": 19,
   "id": "f6a174d6",
   "metadata": {},
   "outputs": [
    {
     "name": "stderr",
     "output_type": "stream",
     "text": [
      "C:\\Users\\huzyfa\\AppData\\Local\\Temp/ipykernel_9536/3544920162.py:2: ElasticsearchWarning: this request accesses system indices: [.security-7], but in a future major version, direct access to system indices will be prevented by default\n",
      "  all_indices = es.indices.get_alias()\n"
     ]
    },
    {
     "data": {
      "text/plain": [
       "ObjectApiResponse({'x': {'aliases': {}}, '.security-7': {'aliases': {'.security': {'is_hidden': True}}}})"
      ]
     },
     "execution_count": 19,
     "metadata": {},
     "output_type": "execute_result"
    }
   ],
   "source": [
    "# returns a list of all the cluster's indices\n",
    "all_indices = es.indices.get_alias()\n",
    "all_indices"
   ]
  },
  {
   "cell_type": "code",
   "execution_count": 20,
   "id": "0a03ec7b",
   "metadata": {},
   "outputs": [
    {
     "data": {
      "text/plain": [
       "{'Studio 6': [{'address': '142 Park Place Us 181 Business At Park Pl',\n",
       "   'categories': 'Hotels',\n",
       "   'city': 'Kenedy',\n",
       "   'country': 'US',\n",
       "   'latitude': 28.793795,\n",
       "   'longitude': -97.849655,\n",
       "   'postalCode': '78119',\n",
       "   'province': 'TX',\n",
       "   'reviews.date': nan,\n",
       "   'reviews.dateAdded': '2016-05-07T01:34:14Z',\n",
       "   'reviews.doRecommend': nan,\n",
       "   'reviews.id': nan,\n",
       "   'reviews.rating': 0.0,\n",
       "   'reviews.text': 'to share your opinion of this businesswith YP visitors across the United Statesand in your neighborhood',\n",
       "   'reviews.title': nan,\n",
       "   'reviews.userCity': nan,\n",
       "   'reviews.username': 'write a review',\n",
       "   'reviews.userProvince': nan},\n",
       "  {'address': '7 E Wellsboro St',\n",
       "   'categories': 'Hotels',\n",
       "   'city': 'Mansfield',\n",
       "   'country': 'US',\n",
       "   'latitude': 41.807106,\n",
       "   'longitude': -77.07787,\n",
       "   'postalCode': '16933',\n",
       "   'province': 'Canoe Camp',\n",
       "   'reviews.date': nan,\n",
       "   'reviews.dateAdded': '2016-05-05T12:40:00Z',\n",
       "   'reviews.doRecommend': nan,\n",
       "   'reviews.id': nan,\n",
       "   'reviews.rating': 0.0,\n",
       "   'reviews.text': 'xxxxxxxxxxxxxxxxxxxxxxxxxxxxxxxxxxxxxxxxxx',\n",
       "   'reviews.title': nan,\n",
       "   'reviews.userCity': nan,\n",
       "   'reviews.username': 'xxxxxxxxxxxxxx',\n",
       "   'reviews.userProvince': nan},\n",
       "  {'address': '7 E Wellsboro St',\n",
       "   'categories': 'Hotels',\n",
       "   'city': 'Mansfield',\n",
       "   'country': 'US',\n",
       "   'latitude': 41.807106,\n",
       "   'longitude': -77.07787,\n",
       "   'postalCode': '16933',\n",
       "   'province': 'Canoe Camp',\n",
       "   'reviews.date': nan,\n",
       "   'reviews.dateAdded': '2016-05-05T12:40:00Z',\n",
       "   'reviews.doRecommend': nan,\n",
       "   'reviews.id': nan,\n",
       "   'reviews.rating': 0.0,\n",
       "   'reviews.text': 'to share your opinion of this businesswith YP visitors across the United Statesand in your neighborhood',\n",
       "   'reviews.title': nan,\n",
       "   'reviews.userCity': nan,\n",
       "   'reviews.username': 'write a review',\n",
       "   'reviews.userProvince': nan}]}"
      ]
     },
     "execution_count": 20,
     "metadata": {},
     "output_type": "execute_result"
    }
   ],
   "source": [
    "t = [*gendata][1]\n",
    "t"
   ]
  },
  {
   "cell_type": "code",
   "execution_count": 73,
   "id": "505a83c2",
   "metadata": {},
   "outputs": [
    {
     "data": {
      "text/plain": [
       "ObjectApiResponse({'_index': 'x', '_id': 'hotels', '_version': 4, 'result': 'updated', '_shards': {'total': 2, 'successful': 1, 'failed': 0}, '_seq_no': 13, '_primary_term': 2})"
      ]
     },
     "execution_count": 73,
     "metadata": {},
     "output_type": "execute_result"
    }
   ],
   "source": [
    "doc = {\n",
    "    \"settings\":{\"number_of_shards\": 1,\n",
    "                \"number_of_replicas\": 0,\n",
    "                \"refresh_interval\": 60},\n",
    "    \"Studio 6\": [{'address': '142 Park Place Us 181 Business At Park Pl',\n",
    " 'categories': 'Hotels',\n",
    " 'city': 'Kenedy',\n",
    " 'country': 'US',\n",
    " 'latitude': 28.793795,\n",
    " 'longitude': -97.849655,\n",
    " 'name': 'Studio 6',\n",
    " 'postalCode': '78119',\n",
    " 'province': 'TX',\n",
    " 'reviews.date': \"2016-05-07T01:34:14Z\",\n",
    " 'reviews.dateAdded': '2016-05-07T01:34:14Z',\n",
    " 'reviews.doRecommend': 0.0,\n",
    " 'reviews.id': 0.0,\n",
    " 'reviews.rating': 0.0,\n",
    " 'reviews.text': 'to share your opinion of this businesswith YP visitors across the United Statesand in your neighborhood',\n",
    " 'reviews.title': \"nan\",\n",
    " 'reviews.userCity': \"nan\",\n",
    " 'reviews.username': 'write a review',\n",
    " 'reviews.userProvince': \"nan\"},                     \n",
    "{'address': '142 Park Place Us 181 Business At Park Pl',\n",
    " 'categories': 'Hotels',\n",
    " 'city': 'Kenedy',\n",
    " 'country': 'US',\n",
    " 'latitude': 28.793795,\n",
    " 'longitude': -97.849655,\n",
    " 'name': 'Studio 6',\n",
    " 'postalCode': '78119',\n",
    " 'province': 'TX',\n",
    " 'reviews.date': \"2016-05-07T01:34:14Z\",\n",
    " 'reviews.dateAdded': '2016-05-07T01:34:14Z',\n",
    " 'reviews.doRecommend': 0.0,\n",
    " 'reviews.id': 0.0,\n",
    " 'reviews.rating': 0.0,\n",
    " 'reviews.text': 'to share your opinion of this businesswith YP visitors across the United Statesand in your neighborhood',\n",
    " 'reviews.title': \"nan\",\n",
    " 'reviews.userCity': \"nan\",\n",
    " 'reviews.username': 'write a review',\n",
    " 'reviews.userProvince': \"nan\"}]}\n",
    "resp = es.index(index=\"x\", id=\"hotels\", document=doc)\n",
    "resp"
   ]
  },
  {
   "cell_type": "code",
   "execution_count": 74,
   "id": "4f450ac4-400a-4861-a0f1-23f8184fa5d2",
   "metadata": {},
   "outputs": [
    {
     "ename": "BadRequestError",
     "evalue": "BadRequestError(400, 'action_request_validation_exception', 'Validation Failed: 1: index is missing;2: index is missing;')",
     "output_type": "error",
     "traceback": [
      "\u001b[1;31m---------------------------------------------------------------------------\u001b[0m",
      "\u001b[1;31mBadRequestError\u001b[0m                           Traceback (most recent call last)",
      "\u001b[1;32m~\\AppData\\Local\\Temp/ipykernel_9536/3993257125.py\u001b[0m in \u001b[0;36m<module>\u001b[1;34m\u001b[0m\n\u001b[0;32m      7\u001b[0m                 }\n\u001b[0;32m      8\u001b[0m }\n\u001b[1;32m----> 9\u001b[1;33m \u001b[0mbulk\u001b[0m\u001b[1;33m(\u001b[0m\u001b[0mclient\u001b[0m\u001b[1;33m=\u001b[0m\u001b[0mes\u001b[0m\u001b[1;33m,\u001b[0m \u001b[0mactions\u001b[0m\u001b[1;33m=\u001b[0m \u001b[0mdoc\u001b[0m\u001b[1;33m)\u001b[0m\u001b[1;33m\u001b[0m\u001b[1;33m\u001b[0m\u001b[0m\n\u001b[0m",
      "\u001b[1;32m~\\AppData\\Roaming\\Python\\Python310\\site-packages\\elasticsearch\\helpers\\actions.py\u001b[0m in \u001b[0;36mbulk\u001b[1;34m(client, actions, stats_only, ignore_status, *args, **kwargs)\u001b[0m\n\u001b[0;32m    522\u001b[0m     \u001b[1;31m# make streaming_bulk yield successful results so we can count them\u001b[0m\u001b[1;33m\u001b[0m\u001b[1;33m\u001b[0m\u001b[0m\n\u001b[0;32m    523\u001b[0m     \u001b[0mkwargs\u001b[0m\u001b[1;33m[\u001b[0m\u001b[1;34m\"yield_ok\"\u001b[0m\u001b[1;33m]\u001b[0m \u001b[1;33m=\u001b[0m \u001b[1;32mTrue\u001b[0m\u001b[1;33m\u001b[0m\u001b[1;33m\u001b[0m\u001b[0m\n\u001b[1;32m--> 524\u001b[1;33m     for ok, item in streaming_bulk(\n\u001b[0m\u001b[0;32m    525\u001b[0m         \u001b[0mclient\u001b[0m\u001b[1;33m,\u001b[0m \u001b[0mactions\u001b[0m\u001b[1;33m,\u001b[0m \u001b[0mignore_status\u001b[0m\u001b[1;33m=\u001b[0m\u001b[0mignore_status\u001b[0m\u001b[1;33m,\u001b[0m \u001b[1;33m*\u001b[0m\u001b[0margs\u001b[0m\u001b[1;33m,\u001b[0m \u001b[1;33m**\u001b[0m\u001b[0mkwargs\u001b[0m  \u001b[1;31m# type: ignore[misc]\u001b[0m\u001b[1;33m\u001b[0m\u001b[1;33m\u001b[0m\u001b[0m\n\u001b[0;32m    526\u001b[0m     ):\n",
      "\u001b[1;32m~\\AppData\\Roaming\\Python\\Python310\\site-packages\\elasticsearch\\helpers\\actions.py\u001b[0m in \u001b[0;36mstreaming_bulk\u001b[1;34m(client, actions, chunk_size, max_chunk_bytes, raise_on_error, expand_action_callback, raise_on_exception, max_retries, initial_backoff, max_backoff, yield_ok, ignore_status, *args, **kwargs)\u001b[0m\n\u001b[0;32m    436\u001b[0m \u001b[1;33m\u001b[0m\u001b[0m\n\u001b[0;32m    437\u001b[0m             \u001b[1;32mtry\u001b[0m\u001b[1;33m:\u001b[0m\u001b[1;33m\u001b[0m\u001b[1;33m\u001b[0m\u001b[0m\n\u001b[1;32m--> 438\u001b[1;33m                 for data, (ok, info) in zip(\n\u001b[0m\u001b[0;32m    439\u001b[0m                     \u001b[0mbulk_data\u001b[0m\u001b[1;33m,\u001b[0m\u001b[1;33m\u001b[0m\u001b[1;33m\u001b[0m\u001b[0m\n\u001b[0;32m    440\u001b[0m                     _process_bulk_chunk(\n",
      "\u001b[1;32m~\\AppData\\Roaming\\Python\\Python310\\site-packages\\elasticsearch\\helpers\\actions.py\u001b[0m in \u001b[0;36m_process_bulk_chunk\u001b[1;34m(client, bulk_actions, bulk_data, raise_on_exception, raise_on_error, ignore_status, *args, **kwargs)\u001b[0m\n\u001b[0;32m    353\u001b[0m             \u001b[0mraise_on_error\u001b[0m\u001b[1;33m=\u001b[0m\u001b[0mraise_on_error\u001b[0m\u001b[1;33m,\u001b[0m\u001b[1;33m\u001b[0m\u001b[1;33m\u001b[0m\u001b[0m\n\u001b[0;32m    354\u001b[0m         )\n\u001b[1;32m--> 355\u001b[1;33m     \u001b[1;32myield\u001b[0m \u001b[1;32mfrom\u001b[0m \u001b[0mgen\u001b[0m\u001b[1;33m\u001b[0m\u001b[1;33m\u001b[0m\u001b[0m\n\u001b[0m\u001b[0;32m    356\u001b[0m \u001b[1;33m\u001b[0m\u001b[0m\n\u001b[0;32m    357\u001b[0m \u001b[1;33m\u001b[0m\u001b[0m\n",
      "\u001b[1;32m~\\AppData\\Roaming\\Python\\Python310\\site-packages\\elasticsearch\\helpers\\actions.py\u001b[0m in \u001b[0;36m_process_bulk_chunk_error\u001b[1;34m(error, bulk_data, ignore_status, raise_on_exception, raise_on_error)\u001b[0m\n\u001b[0;32m    289\u001b[0m     \u001b[1;31m# default behavior - just propagate exception\u001b[0m\u001b[1;33m\u001b[0m\u001b[1;33m\u001b[0m\u001b[0m\n\u001b[0;32m    290\u001b[0m     \u001b[1;32mif\u001b[0m \u001b[0mraise_on_exception\u001b[0m \u001b[1;32mand\u001b[0m \u001b[0merror\u001b[0m\u001b[1;33m.\u001b[0m\u001b[0mstatus_code\u001b[0m \u001b[1;32mnot\u001b[0m \u001b[1;32min\u001b[0m \u001b[0mignore_status\u001b[0m\u001b[1;33m:\u001b[0m\u001b[1;33m\u001b[0m\u001b[1;33m\u001b[0m\u001b[0m\n\u001b[1;32m--> 291\u001b[1;33m         \u001b[1;32mraise\u001b[0m \u001b[0merror\u001b[0m\u001b[1;33m\u001b[0m\u001b[1;33m\u001b[0m\u001b[0m\n\u001b[0m\u001b[0;32m    292\u001b[0m \u001b[1;33m\u001b[0m\u001b[0m\n\u001b[0;32m    293\u001b[0m     \u001b[1;31m# if we are not propagating, mark all actions in current chunk as failed\u001b[0m\u001b[1;33m\u001b[0m\u001b[1;33m\u001b[0m\u001b[0m\n",
      "\u001b[1;32m~\\AppData\\Roaming\\Python\\Python310\\site-packages\\elasticsearch\\helpers\\actions.py\u001b[0m in \u001b[0;36m_process_bulk_chunk\u001b[1;34m(client, bulk_actions, bulk_data, raise_on_exception, raise_on_error, ignore_status, *args, **kwargs)\u001b[0m\n\u001b[0;32m    337\u001b[0m     \u001b[1;32mtry\u001b[0m\u001b[1;33m:\u001b[0m\u001b[1;33m\u001b[0m\u001b[1;33m\u001b[0m\u001b[0m\n\u001b[0;32m    338\u001b[0m         \u001b[1;31m# send the actual request\u001b[0m\u001b[1;33m\u001b[0m\u001b[1;33m\u001b[0m\u001b[0m\n\u001b[1;32m--> 339\u001b[1;33m         \u001b[0mresp\u001b[0m \u001b[1;33m=\u001b[0m \u001b[0mclient\u001b[0m\u001b[1;33m.\u001b[0m\u001b[0mbulk\u001b[0m\u001b[1;33m(\u001b[0m\u001b[1;33m*\u001b[0m\u001b[0margs\u001b[0m\u001b[1;33m,\u001b[0m \u001b[0moperations\u001b[0m\u001b[1;33m=\u001b[0m\u001b[0mbulk_actions\u001b[0m\u001b[1;33m,\u001b[0m \u001b[1;33m**\u001b[0m\u001b[0mkwargs\u001b[0m\u001b[1;33m)\u001b[0m  \u001b[1;31m# type: ignore[arg-type]\u001b[0m\u001b[1;33m\u001b[0m\u001b[1;33m\u001b[0m\u001b[0m\n\u001b[0m\u001b[0;32m    340\u001b[0m     \u001b[1;32mexcept\u001b[0m \u001b[0mApiError\u001b[0m \u001b[1;32mas\u001b[0m \u001b[0me\u001b[0m\u001b[1;33m:\u001b[0m\u001b[1;33m\u001b[0m\u001b[1;33m\u001b[0m\u001b[0m\n\u001b[0;32m    341\u001b[0m         gen = _process_bulk_chunk_error(\n",
      "\u001b[1;32m~\\AppData\\Roaming\\Python\\Python310\\site-packages\\elasticsearch\\_sync\\client\\utils.py\u001b[0m in \u001b[0;36mwrapped\u001b[1;34m(*args, **kwargs)\u001b[0m\n\u001b[0;32m    402\u001b[0m                         \u001b[1;32mpass\u001b[0m\u001b[1;33m\u001b[0m\u001b[1;33m\u001b[0m\u001b[0m\n\u001b[0;32m    403\u001b[0m \u001b[1;33m\u001b[0m\u001b[0m\n\u001b[1;32m--> 404\u001b[1;33m             \u001b[1;32mreturn\u001b[0m \u001b[0mapi\u001b[0m\u001b[1;33m(\u001b[0m\u001b[1;33m*\u001b[0m\u001b[0margs\u001b[0m\u001b[1;33m,\u001b[0m \u001b[1;33m**\u001b[0m\u001b[0mkwargs\u001b[0m\u001b[1;33m)\u001b[0m\u001b[1;33m\u001b[0m\u001b[1;33m\u001b[0m\u001b[0m\n\u001b[0m\u001b[0;32m    405\u001b[0m \u001b[1;33m\u001b[0m\u001b[0m\n\u001b[0;32m    406\u001b[0m         \u001b[1;32mreturn\u001b[0m \u001b[0mwrapped\u001b[0m  \u001b[1;31m# type: ignore[return-value]\u001b[0m\u001b[1;33m\u001b[0m\u001b[1;33m\u001b[0m\u001b[0m\n",
      "\u001b[1;32m~\\AppData\\Roaming\\Python\\Python310\\site-packages\\elasticsearch\\_sync\\client\\__init__.py\u001b[0m in \u001b[0;36mbulk\u001b[1;34m(self, operations, index, error_trace, filter_path, human, pipeline, pretty, refresh, require_alias, routing, source, source_excludes, source_includes, timeout, wait_for_active_shards)\u001b[0m\n\u001b[0;32m    671\u001b[0m             \u001b[1;34m\"content-type\"\u001b[0m\u001b[1;33m:\u001b[0m \u001b[1;34m\"application/x-ndjson\"\u001b[0m\u001b[1;33m,\u001b[0m\u001b[1;33m\u001b[0m\u001b[1;33m\u001b[0m\u001b[0m\n\u001b[0;32m    672\u001b[0m         }\n\u001b[1;32m--> 673\u001b[1;33m         return self.perform_request(  # type: ignore[return-value]\n\u001b[0m\u001b[0;32m    674\u001b[0m             \u001b[1;34m\"PUT\"\u001b[0m\u001b[1;33m,\u001b[0m \u001b[0m__path\u001b[0m\u001b[1;33m,\u001b[0m \u001b[0mparams\u001b[0m\u001b[1;33m=\u001b[0m\u001b[0m__query\u001b[0m\u001b[1;33m,\u001b[0m \u001b[0mheaders\u001b[0m\u001b[1;33m=\u001b[0m\u001b[0m__headers\u001b[0m\u001b[1;33m,\u001b[0m \u001b[0mbody\u001b[0m\u001b[1;33m=\u001b[0m\u001b[0m__body\u001b[0m\u001b[1;33m\u001b[0m\u001b[1;33m\u001b[0m\u001b[0m\n\u001b[0;32m    675\u001b[0m         )\n",
      "\u001b[1;32m~\\AppData\\Roaming\\Python\\Python310\\site-packages\\elasticsearch\\_sync\\client\\_base.py\u001b[0m in \u001b[0;36mperform_request\u001b[1;34m(self, method, path, params, headers, body)\u001b[0m\n\u001b[0;32m    319\u001b[0m                     \u001b[1;32mpass\u001b[0m\u001b[1;33m\u001b[0m\u001b[1;33m\u001b[0m\u001b[0m\n\u001b[0;32m    320\u001b[0m \u001b[1;33m\u001b[0m\u001b[0m\n\u001b[1;32m--> 321\u001b[1;33m             raise HTTP_EXCEPTIONS.get(meta.status, ApiError)(\n\u001b[0m\u001b[0;32m    322\u001b[0m                 \u001b[0mmessage\u001b[0m\u001b[1;33m=\u001b[0m\u001b[0mmessage\u001b[0m\u001b[1;33m,\u001b[0m \u001b[0mmeta\u001b[0m\u001b[1;33m=\u001b[0m\u001b[0mmeta\u001b[0m\u001b[1;33m,\u001b[0m \u001b[0mbody\u001b[0m\u001b[1;33m=\u001b[0m\u001b[0mresp_body\u001b[0m\u001b[1;33m\u001b[0m\u001b[1;33m\u001b[0m\u001b[0m\n\u001b[0;32m    323\u001b[0m             )\n",
      "\u001b[1;31mBadRequestError\u001b[0m: BadRequestError(400, 'action_request_validation_exception', 'Validation Failed: 1: index is missing;2: index is missing;')"
     ]
    }
   ],
   "source": [
    "action = {\n",
    "    '_index': 'x',\n",
    "    '_id': 7,\n",
    "    \"settings\":{\"number_of_shards\": 1,\n",
    "                \"number_of_replicas\": 0,\n",
    "                \"refresh_interval\": 60\n",
    "                }\n",
    "}\n",
    "bulk(client=es, actions= doc)"
   ]
  },
  {
   "cell_type": "code",
   "execution_count": 64,
   "id": "60abb10e",
   "metadata": {},
   "outputs": [
    {
     "data": {
      "text/plain": [
       "ObjectApiResponse({'x': {'mappings': {'properties': {'Studio 6': {'properties': {'address': {'type': 'text', 'fields': {'keyword': {'type': 'keyword', 'ignore_above': 256}}}, 'categories': {'type': 'text', 'fields': {'keyword': {'type': 'keyword', 'ignore_above': 256}}}, 'city': {'type': 'text', 'fields': {'keyword': {'type': 'keyword', 'ignore_above': 256}}}, 'country': {'type': 'text', 'fields': {'keyword': {'type': 'keyword', 'ignore_above': 256}}}, 'latitude': {'type': 'float'}, 'longitude': {'type': 'float'}, 'name': {'type': 'text', 'fields': {'keyword': {'type': 'keyword', 'ignore_above': 256}}}, 'postalCode': {'type': 'text', 'fields': {'keyword': {'type': 'keyword', 'ignore_above': 256}}}, 'province': {'type': 'text', 'fields': {'keyword': {'type': 'keyword', 'ignore_above': 256}}}, 'reviews': {'properties': {'date': {'type': 'date'}, 'dateAdded': {'type': 'date'}, 'doRecommend': {'type': 'float'}, 'id': {'type': 'float'}, 'rating': {'type': 'float'}, 'text': {'type': 'text', 'fields': {'keyword': {'type': 'keyword', 'ignore_above': 256}}}, 'title': {'type': 'text', 'fields': {'keyword': {'type': 'keyword', 'ignore_above': 256}}}, 'userCity': {'type': 'text', 'fields': {'keyword': {'type': 'keyword', 'ignore_above': 256}}}, 'userProvince': {'type': 'text', 'fields': {'keyword': {'type': 'keyword', 'ignore_above': 256}}}, 'username': {'type': 'text', 'fields': {'keyword': {'type': 'keyword', 'ignore_above': 256}}}}}}}}}}})"
      ]
     },
     "execution_count": 64,
     "metadata": {},
     "output_type": "execute_result"
    }
   ],
   "source": [
    "raw_data = es.indices.get_mapping(index=\"x\")\n",
    "raw_data"
   ]
  },
  {
   "cell_type": "code",
   "execution_count": 23,
   "id": "6a6fe048",
   "metadata": {},
   "outputs": [
    {
     "data": {
      "text/plain": [
       "{'mappings': {'properties': {'Studio 6': {'properties': {'address': {'type': 'text',\n",
       "      'fields': {'keyword': {'type': 'keyword', 'ignore_above': 256}}},\n",
       "     'categories': {'type': 'text',\n",
       "      'fields': {'keyword': {'type': 'keyword', 'ignore_above': 256}}},\n",
       "     'city': {'type': 'text',\n",
       "      'fields': {'keyword': {'type': 'keyword', 'ignore_above': 256}}},\n",
       "     'country': {'type': 'text',\n",
       "      'fields': {'keyword': {'type': 'keyword', 'ignore_above': 256}}},\n",
       "     'latitude': {'type': 'float'},\n",
       "     'longitude': {'type': 'float'},\n",
       "     'name': {'type': 'text',\n",
       "      'fields': {'keyword': {'type': 'keyword', 'ignore_above': 256}}},\n",
       "     'postalCode': {'type': 'text',\n",
       "      'fields': {'keyword': {'type': 'keyword', 'ignore_above': 256}}},\n",
       "     'province': {'type': 'text',\n",
       "      'fields': {'keyword': {'type': 'keyword', 'ignore_above': 256}}},\n",
       "     'reviews': {'properties': {'date': {'type': 'date'},\n",
       "       'dateAdded': {'type': 'date'},\n",
       "       'doRecommend': {'type': 'float'},\n",
       "       'id': {'type': 'float'},\n",
       "       'rating': {'type': 'float'},\n",
       "       'text': {'type': 'text',\n",
       "        'fields': {'keyword': {'type': 'keyword', 'ignore_above': 256}}},\n",
       "       'title': {'type': 'text',\n",
       "        'fields': {'keyword': {'type': 'keyword', 'ignore_above': 256}}},\n",
       "       'userCity': {'type': 'text',\n",
       "        'fields': {'keyword': {'type': 'keyword', 'ignore_above': 256}}},\n",
       "       'userProvince': {'type': 'text',\n",
       "        'fields': {'keyword': {'type': 'keyword', 'ignore_above': 256}}},\n",
       "       'username': {'type': 'text',\n",
       "        'fields': {'keyword': {'type': 'keyword', 'ignore_above': 256}}}}}}}}}}"
      ]
     },
     "execution_count": 23,
     "metadata": {},
     "output_type": "execute_result"
    }
   ],
   "source": [
    "raw_data['x']"
   ]
  },
  {
   "cell_type": "code",
   "execution_count": 24,
   "id": "4a9ff722",
   "metadata": {},
   "outputs": [],
   "source": [
    "# i made number_of_replicas=0 due to my pc limitation\n",
    "maps = {\n",
    "        'mappings': \n",
    "             {'properties': \n",
    "                  {'hotel_name': {'properties': \n",
    "                                      {'address': {'type': 'text', \n",
    "                                                   'fields': {'keyword': {'type': 'keyword', 'ignore_above': 256}\n",
    "                                                             }}, \n",
    "                                       'categories': {'type': 'text', \n",
    "                                                      'fields': {'keyword': {'type': 'keyword', 'ignore_above': 256}\n",
    "                                                                }}, \n",
    "                                       'city': {'type': 'text', \n",
    "                                                'fields': {'keyword': {'type': 'keyword', 'ignore_above': 256}\n",
    "                                                          }}, \n",
    "                                       'country': {'type': 'text', \n",
    "                                                   'fields': {'keyword': {'type': 'keyword', 'ignore_above': 256}\n",
    "                                                             }},    \n",
    "                                       'latitude': {'type': 'float'}, \n",
    "                                       'longitude': {'type': 'float'}, \n",
    "                                       'name': {'type': 'text', \n",
    "                                                'fields': {'keyword': {'type': 'keyword', 'ignore_above': 256}\n",
    "                                                          }},    \n",
    "                                       'postalCode': {'type': 'text', \n",
    "                                                      'fields': {'keyword': {'type': 'keyword', 'ignore_above': 256}\n",
    "                                                                }},    \n",
    "                                       'province': {'type': 'text', \n",
    "                                                    'fields': {'keyword': {'type': 'keyword', 'ignore_above': 256}\n",
    "                                                              }}, \n",
    "                                       'reviews': \n",
    "                                               {'properties': {\n",
    "                                                               'date': {'type': 'date'}, \n",
    "                                                               'dateAdded': {'type': 'date'}, \n",
    "                                                               'doRecommend': {'type': 'float'}, \n",
    "                                                               'id': {'type': 'float'}, \n",
    "                                                               'rating': {'type': 'float'}, \n",
    "                                                               'text': {'type': 'text', \n",
    "                                                                        'fields': {'keyword': {'type': 'keyword', 'ignore_above': 256}\n",
    "                                                                                  }}, \n",
    "                                                               'title': {'type': 'text', \n",
    "                                                                         'fields': {'keyword': {'type': 'keyword', 'ignore_above': 256}\n",
    "                                                                                   }}, \n",
    "                                                               'userCity': {'type': 'text', \n",
    "                                                                            'fields': {'keyword': {'type': 'keyword', 'ignore_above': 256}\n",
    "                                                                                      }}, \n",
    "                                                               'userProvince': {'type': 'text', \n",
    "                                                                                'fields': {'keyword': {'type': 'keyword', 'ignore_above': 256}\n",
    "                                                                                          }}, \n",
    "                                                               'username': {'type': 'text', \n",
    "                                                                            'fields': {'keyword': {'type': 'keyword', 'ignore_above': 256}\n",
    "                                                                                      }}\n",
    "                                               }}}}}}}"
   ]
  },
  {
   "cell_type": "code",
   "execution_count": 25,
   "id": "a2dab49d",
   "metadata": {},
   "outputs": [],
   "source": [
    "# results = es.search(index=\"x\", query= {\"match_all\": {}}, size=100)#['hits']#['hits']\n",
    "# results"
   ]
  },
  {
   "cell_type": "code",
   "execution_count": 26,
   "id": "3c0c7141",
   "metadata": {},
   "outputs": [
    {
     "data": {
      "text/plain": [
       "ObjectApiResponse({'_index': 'x', '_id': 'hotels', '_version': 2, 'result': 'deleted', '_shards': {'total': 2, 'successful': 1, 'failed': 0}, '_seq_no': 9, '_primary_term': 2})"
      ]
     },
     "execution_count": 26,
     "metadata": {},
     "output_type": "execute_result"
    }
   ],
   "source": [
    "# deleting the index \"x\" after getting the mapping from elstic search to reduce hand writing and mistake probability \n",
    "es.delete(index='x', id='hotels')"
   ]
  },
  {
   "cell_type": "code",
   "execution_count": 27,
   "id": "bcee29b5",
   "metadata": {},
   "outputs": [
    {
     "name": "stderr",
     "output_type": "stream",
     "text": [
      "C:\\Users\\huzyfa\\AppData\\Local\\Temp/ipykernel_9536/3544920162.py:2: ElasticsearchWarning: this request accesses system indices: [.security-7], but in a future major version, direct access to system indices will be prevented by default\n",
      "  all_indices = es.indices.get_alias()\n"
     ]
    },
    {
     "data": {
      "text/plain": [
       "ObjectApiResponse({'x': {'aliases': {}}, '.security-7': {'aliases': {'.security': {'is_hidden': True}}}})"
      ]
     },
     "execution_count": 27,
     "metadata": {},
     "output_type": "execute_result"
    }
   ],
   "source": [
    "# returns a list of all the cluster's indices\n",
    "all_indices = es.indices.get_alias()\n",
    "all_indices"
   ]
  },
  {
   "cell_type": "code",
   "execution_count": 28,
   "id": "ea0ffade",
   "metadata": {},
   "outputs": [],
   "source": [
    "# Create the client instance\n",
    "es = Elasticsearch(\n",
    "    \"https://localhost:9200\",\n",
    "    ca_certs=r\"C:\\Users\\huzyfa\\Desktop\\elasticsearch-8.1.0\\config\\certs\\http_ca.crt\",\n",
    "    basic_auth=(\"elastic\", ELASTIC_PASSWORD))\n",
    "\n",
    "meta = {\"_index\": \"hotels-index\"\n",
    "        , \"_id\": \"hotels\", \n",
    "        **maps\n",
    "       }"
   ]
  },
  {
   "cell_type": "code",
   "execution_count": 47,
   "id": "7efd56b9-d43f-40e0-a254-48c8a430c81a",
   "metadata": {},
   "outputs": [],
   "source": [
    "# t"
   ]
  },
  {
   "cell_type": "code",
   "execution_count": 49,
   "id": "c3bf2fd0-22f1-4828-a97b-40c22fec06b6",
   "metadata": {},
   "outputs": [
    {
     "data": {
      "text/plain": [
       "ObjectApiResponse({'_index': 'xx', '_id': 'hotels', '_version': 3, 'result': 'updated', '_shards': {'total': 2, 'successful': 1, 'failed': 0}, '_seq_no': 2, '_primary_term': 1})"
      ]
     },
     "execution_count": 49,
     "metadata": {},
     "output_type": "execute_result"
    }
   ],
   "source": [
    "resp = es.index(index=\"xx\", id=\"hotels\", document=doc)\n",
    "resp"
   ]
  },
  {
   "cell_type": "code",
   "execution_count": 38,
   "id": "eca5ae4e",
   "metadata": {},
   "outputs": [
    {
     "ename": "SyntaxError",
     "evalue": "invalid syntax (Temp/ipykernel_9536/2904883714.py, line 1)",
     "output_type": "error",
     "traceback": [
      "\u001b[1;36m  File \u001b[1;32m\"C:\\Users\\huzyfa\\AppData\\Local\\Temp/ipykernel_9536/2904883714.py\"\u001b[1;36m, line \u001b[1;32m1\u001b[0m\n\u001b[1;33m    bulk(es, {t, **meta})\u001b[0m\n\u001b[1;37m                 ^\u001b[0m\n\u001b[1;31mSyntaxError\u001b[0m\u001b[1;31m:\u001b[0m invalid syntax\n"
     ]
    }
   ],
   "source": [
    "bulk(es, {t, **meta})"
   ]
  },
  {
   "cell_type": "markdown",
   "id": "d2b72ca4",
   "metadata": {},
   "source": [
    "### preparing for IBM-Watson tone analyzer"
   ]
  },
  {
   "cell_type": "markdown",
   "id": "1dffc53c",
   "metadata": {},
   "source": [
    "i stop working on this feature as the documentation mentioned that the tone analyzer is unavailable for new users from 24-feb2022, \n",
    "and in the Deprecation state for the the current users for one year"
   ]
  },
  {
   "cell_type": "markdown",
   "id": "7b1b662b-61ff-4513-bda7-56edbb4adae6",
   "metadata": {},
   "source": [
    "### preparing flask"
   ]
  },
  {
   "cell_type": "code",
   "execution_count": 39,
   "id": "fc17338c",
   "metadata": {},
   "outputs": [],
   "source": [
    "# # in the terminal run these lines\n",
    "\n",
    "# # install flask\n",
    "# pip install flask Flask-RESTful\n",
    "\n",
    "# # set the script of the api\n",
    "# set FLASK_APP=flask_api.py\n",
    "\n",
    "# # set the debug mode to be able to see the changes in the api without reloading the server\n",
    "# set FLASK_DEBUG=1"
   ]
  },
  {
   "cell_type": "code",
   "execution_count": null,
   "id": "ca031efd",
   "metadata": {},
   "outputs": [],
   "source": []
  },
  {
   "cell_type": "code",
   "execution_count": null,
   "id": "244d1257",
   "metadata": {},
   "outputs": [],
   "source": []
  }
 ],
 "metadata": {
  "kernelspec": {
   "display_name": "Python 3 (ipykernel)",
   "language": "python",
   "name": "python3"
  },
  "language_info": {
   "codemirror_mode": {
    "name": "ipython",
    "version": 3
   },
   "file_extension": ".py",
   "mimetype": "text/x-python",
   "name": "python",
   "nbconvert_exporter": "python",
   "pygments_lexer": "ipython3",
   "version": "3.10.0"
  }
 },
 "nbformat": 4,
 "nbformat_minor": 5
}
